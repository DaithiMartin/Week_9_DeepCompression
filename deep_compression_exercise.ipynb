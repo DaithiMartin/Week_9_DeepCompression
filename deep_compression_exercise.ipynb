{
 "cells": [
  {
   "cell_type": "markdown",
   "metadata": {},
   "source": [
    "# Exercise Week 9: Pruning and Quantization\n",
    "This week, we will explore some of the ideas discussed in Han, Mao, and Dally's Deep Compression.  In particular, we will implement weight pruning with fine tuning, as well as k-means weight quantization.  **Note that we will unfortunately not be doing this in a way that will actually lead to substantial efficiency gains: that would involve the use of sparse matrices which are not currently well-supported in pytorch.** \n",
    "\n",
    "## Training an MNIST classifier\n",
    "For this example, we'll work with a basic multilayer perceptron with a single hidden layer.  We will train it on the MNIST dataset so that it can classify handwritten digits.  As usual we load the data:"
   ]
  },
  {
   "cell_type": "code",
   "execution_count": 1,
   "metadata": {
    "pycharm": {
     "is_executing": false
    }
   },
   "outputs": [],
   "source": [
    "import torch\n",
    "import torchvision.transforms as transforms\n",
    "import torchvision.datasets as datasets\n",
    "\n",
    "device = torch.device('cuda' if torch.cuda.is_available() else \"cpu\")\n",
    "\n",
    "train_dataset = datasets.MNIST(root='./data', train=True, transform=transforms.ToTensor(), download=True)\n",
    "test_dataset = datasets.MNIST(root='./data', train=False, transform=transforms.ToTensor())\n",
    "\n",
    "batch_size = 300\n",
    "train_loader = torch.utils.data.DataLoader(dataset=train_dataset, batch_size=batch_size, shuffle=True)\n",
    "test_loader = torch.utils.data.DataLoader(dataset=test_dataset, batch_size=batch_size, shuffle=False)"
   ]
  },
  {
   "cell_type": "markdown",
   "metadata": {},
   "source": [
    "Then define a model:"
   ]
  },
  {
   "cell_type": "code",
   "execution_count": 2,
   "metadata": {
    "pycharm": {
     "is_executing": false
    }
   },
   "outputs": [],
   "source": [
    "class MultilayerPerceptron(torch.nn.Module):\n",
    "    def __init__(self, input_dim, hidden_dim, output_dim,mask=None):\n",
    "        super(MultilayerPerceptron, self).__init__()\n",
    "        if not mask:\n",
    "            self.mask = torch.nn.Parameter(torch.ones(input_dim,hidden_dim),requires_grad=False)\n",
    "        else:\n",
    "            self.mask = torch.nn.Parameter(mask)\n",
    "\n",
    "        self.W_0 = torch.nn.Parameter(1e-3*torch.randn(input_dim,hidden_dim)*self.mask,requires_grad=True)\n",
    "        self.b_0 = torch.nn.Parameter(torch.zeros(hidden_dim),requires_grad=True)\n",
    "\n",
    "        self.W_1 = torch.nn.Parameter(1e-3*torch.randn(hidden_dim,output_dim),requires_grad=True)\n",
    "        self.b_1 = torch.nn.Parameter(torch.zeros(output_dim),requires_grad=True)\n",
    "        \n",
    "    def set_mask(self,mask):\n",
    "        \n",
    "        self.mask.data = mask.data\n",
    "        self.W_0.data = self.mask.data*self.W_0.data\n",
    "\n",
    "    def forward(self, x):\n",
    "        hidden = torch.tanh(x@(self.W_0*self.mask) + self.b_0)\n",
    "        outputs = hidden@self.W_1 + self.b_1\n",
    "        return outputs\n"
   ]
  },
  {
   "cell_type": "markdown",
   "metadata": {},
   "source": [
    "Note that the above code is a little bit different than a standard multilayer perceptron implementation.\n",
    "\n",
    "### Q1: What does this model have the capability of doing that a \"Vanilla\" MLP does not.  Why might we want this functionality for studying pruning?\n",
    "\n",
    "### Answer \n",
    "---\n",
    "It sets up a \"mask\" Parameter field and a set_mask() method. These two in combination allow us to set W_0 \n",
    "to a tensor with 1's that doesnt have gradient functionality. THis should effectivly prune the weights set \n",
    "to 1. They value of 1 provides identity functionality for the forward pass and the requires_grad=False will \n",
    "prevent it from being used in back propigation. \n",
    "\n",
    "---\n",
    "\n",
    "Let's first train this model without utilizing this extra functionality.  You can set the hidden layer size to whatever you'd like when instantiating the model:"
   ]
  },
  {
   "cell_type": "code",
   "execution_count": 3,
   "metadata": {
    "pycharm": {
     "is_executing": false
    }
   },
   "outputs": [],
   "source": [
    "n_epochs = 10\n",
    "\n",
    "input_dim = 784\n",
    "hidden_dim = 64\n",
    "output_dim = 10\n",
    "\n",
    "model = MultilayerPerceptron(input_dim,hidden_dim,output_dim)\n",
    "model = model.to(device)\n",
    "\n",
    "criterion = torch.nn.CrossEntropyLoss() # computes softmax and then the cross entropy\n",
    "lr_rate = 0.001\n",
    "optimizer = torch.optim.Adam(model.parameters(), lr=lr_rate, weight_decay=1e-3)"
   ]
  },
  {
   "cell_type": "markdown",
   "metadata": {},
   "source": [
    "And then training proceeds as normal."
   ]
  },
  {
   "cell_type": "code",
   "execution_count": 4,
   "metadata": {
    "pycharm": {
     "is_executing": false
    }
   },
   "outputs": [
    {
     "name": "stdout",
     "text": [
      "Iteration: 0. Loss: 0.35452142357826233. Accuracy: 90.\n",
      "Iteration: 1. Loss: 0.34690171480178833. Accuracy: 92.\n",
      "Iteration: 2. Loss: 0.3076745569705963. Accuracy: 93.\n",
      "Iteration: 3. Loss: 0.18263381719589233. Accuracy: 93.\n",
      "Iteration: 4. Loss: 0.13422341644763947. Accuracy: 94.\n",
      "Iteration: 5. Loss: 0.19391830265522003. Accuracy: 94.\n",
      "Iteration: 6. Loss: 0.15997616946697235. Accuracy: 95.\n",
      "Iteration: 7. Loss: 0.17807579040527344. Accuracy: 95.\n",
      "Iteration: 8. Loss: 0.12803120911121368. Accuracy: 95.\n",
      "Iteration: 9. Loss: 0.16941149532794952. Accuracy: 95.\n"
     ],
     "output_type": "stream"
    }
   ],
   "source": [
    "iter = 0\n",
    "for epoch in range(n_epochs):\n",
    "    for i, (images, labels) in enumerate(train_loader):\n",
    "        images = images.view(-1, 28 * 28).to(device)\n",
    "        labels = labels.to(device)\n",
    "\n",
    "        optimizer.zero_grad()\n",
    "        outputs = model(images)\n",
    "        loss = criterion(outputs, labels)\n",
    "        loss.backward()\n",
    "        optimizer.step()\n",
    "\n",
    "    # calculate Accuracy\n",
    "    correct = 0\n",
    "    total = 0\n",
    "    for images, labels in test_loader:\n",
    "        images = images.view(-1, 28*28).to(device)\n",
    "        labels = labels.to(device)\n",
    "        outputs = model(images)\n",
    "        _, predicted = torch.max(outputs.data, 1)\n",
    "        total+= labels.size(0)\n",
    "                # for gpu, bring the predicted and labels back to cpu fro python operations to work\n",
    "        correct+= (predicted == labels).sum()\n",
    "    accuracy = 100 * correct/total\n",
    "    print(\"Iteration: {}. Loss: {}. Accuracy: {}.\".format(epoch, loss.item(), accuracy))\n",
    "torch.save(model.state_dict(),'mnist_pretrained.h5')\n"
   ]
  },
  {
   "cell_type": "markdown",
   "metadata": {},
   "source": [
    "## Pruning\n",
    "\n",
    "Certainly not a state of the art model, but also not a terrible one.  Because we're hoping to do some weight pruning, let's inspect some of the weights directly (recall that we can act like they're images)"
   ]
  },
  {
   "cell_type": "code",
   "execution_count": 5,
   "metadata": {
    "pycharm": {
     "is_executing": false
    }
   },
   "outputs": [
    {
     "data": {
      "text/plain": "<Figure size 432x288 with 1 Axes>",
      "image/png": "[encoded data removed]"
     },
     "metadata": {
      "needs_background": "light"
     },
     "output_type": "display_data"
    }
   ],
   "source": [
    "import matplotlib.pyplot as plt\n",
    "W_0 = model.W_0.detach().cpu().numpy()\n",
    "plt.imshow(W_0[:,1].reshape((28,28)))\n",
    "plt.show()"
   ]
  },
  {
   "cell_type": "markdown",
   "metadata": {},
   "source": [
    "### Q2: Based on the above image, what weights might reasonably be pruned (i.e. explicitly forced to be zero)?\n",
    "\n",
    "### Answer\n",
    "---\n",
    "The most reasonable weight to prune would be the weight at the peripheries of the image with low values.\n",
    "\n",
    "### Q3: Implement some means of establishing a threshold for the (absolute value of the) weights, below which they are set to zero.  Using this method, create a mask array.     \n",
    "\n",
    "### Answer\n",
    "---\n",
    "$$ -0.1 < W^0 < 0.1$$ "
   ]
  },
  {
   "cell_type": "code",
   "execution_count": 6,
   "metadata": {
    "pycharm": {
     "is_executing": false
    }
   },
   "outputs": [],
   "source": [
    "import numpy as np\n",
    "zeros = 0\n",
    "for i in range(input_dim):\n",
    "    for j in range(hidden_dim):\n",
    "        if (model.W_0[i][j] < 0.1) and (model.W_0[i][j] > -0.1):\n",
    "            model.mask[i][j] = 0\n",
    "            zeros += 1\n",
    "new_mask = model.mask\n",
    "\n",
    "# checker\n",
    "W_0 = model.W_0.detach().cpu().numpy()\n",
    "mask = model.mask.detach().cpu().numpy()\n",
    " \n",
    "inds = np.where(mask==0)\n",
    "vals = W_0[inds]\n"
   ]
  },
  {
   "cell_type": "markdown",
   "metadata": {},
   "source": [
    "Now that we have a mask that explicitly establishes a sparsity pattern for our model, let's update our model with this mask:"
   ]
  },
  {
   "cell_type": "code",
   "execution_count": 7,
   "metadata": {
    "pycharm": {
     "is_executing": false
    }
   },
   "outputs": [],
   "source": [
    "model.set_mask(new_mask)"
   ]
  },
  {
   "cell_type": "markdown",
   "metadata": {},
   "source": [
    "Now, we have explicitly set some entries in one of the the weight matrices to zero, and ensured via the mask, that they will not be updated by gradient descent.  Fine tune the model: "
   ]
  },
  {
   "cell_type": "code",
   "execution_count": 8,
   "metadata": {
    "pycharm": {
     "is_executing": false
    }
   },
   "outputs": [
    {
     "name": "stdout",
     "text": [
      "Iteration: 0. Loss: 0.19844508171081543. Accuracy: 93.\n",
      "Iteration: 1. Loss: 0.2118104100227356. Accuracy: 94.\n",
      "Iteration: 2. Loss: 0.22304458916187286. Accuracy: 94.\n",
      "Iteration: 3. Loss: 0.23087534308433533. Accuracy: 94.\n",
      "Iteration: 4. Loss: 0.18686896562576294. Accuracy: 94.\n",
      "Iteration: 5. Loss: 0.15840409696102142. Accuracy: 94.\n",
      "Iteration: 6. Loss: 0.16591185331344604. Accuracy: 94.\n",
      "Iteration: 7. Loss: 0.20381128787994385. Accuracy: 94.\n",
      "Iteration: 8. Loss: 0.23558026552200317. Accuracy: 95.\n",
      "Iteration: 9. Loss: 0.29012590646743774. Accuracy: 95.\n"
     ],
     "output_type": "stream"
    }
   ],
   "source": [
    "iter = 0\n",
    "for epoch in range(n_epochs):\n",
    "    for i, (images, labels) in enumerate(train_loader):\n",
    "        images = images.view(-1, 28 * 28).to(device)\n",
    "        labels = labels.to(device)\n",
    "\n",
    "        optimizer.zero_grad()\n",
    "        outputs = model(images)\n",
    "        loss = criterion(outputs, labels)\n",
    "        loss.backward()\n",
    "        optimizer.step()\n",
    "\n",
    "    # calculate Accuracy\n",
    "    correct = 0\n",
    "    total = 0\n",
    "    for images, labels in test_loader:\n",
    "        images = images.view(-1, 28*28).to(device)\n",
    "        labels = labels.to(device)\n",
    "        outputs = model(images)\n",
    "        _, predicted = torch.max(outputs.data, 1)\n",
    "        total+= labels.size(0)\n",
    "                # for gpu, bring the predicted and labels back to cpu fro python operations to work\n",
    "        correct+= (predicted == labels).sum()\n",
    "    accuracy = 100 * correct/total\n",
    "    print(\"Iteration: {}. Loss: {}. Accuracy: {}.\".format(epoch, loss.item(), accuracy))\n",
    "torch.save(model.state_dict(),'mnist_pruned.h5')"
   ]
  },
  {
   "cell_type": "markdown",
   "metadata": {},
   "source": [
    "### Q4: How much accuracy did you lose by pruning the model?  How much \"compression\" did you achieve (here defined as total entries in W_0 divided by number of non-zero entries)?  \n",
    "\n",
    "### Answer\n",
    "---\n",
    "I did not loose any accuracy and got 21x compression. "
   ]
  },
  {
   "cell_type": "code",
   "execution_count": 9,
   "metadata": {
    "pycharm": {
     "is_executing": false,
     "name": "#%%\n"
    }
   },
   "outputs": [
    {
     "name": "stdout",
     "text": [
      "Compression: 21.082353\n"
     ],
     "output_type": "stream"
    }
   ],
   "source": [
    "import numpy as np\n",
    "\n",
    "W_0 = model.W_0.detach().cpu().numpy()\n",
    "mask = model.mask.detach().cpu().numpy()\n",
    " \n",
    "inds = np.where(mask!=0)\n",
    "vals = W_0[inds]\n",
    "non_zero = len(vals)\n",
    "\n",
    "compression = input_dim * hidden_dim / non_zero\n",
    "\n",
    "print(\"Compression: %f\" % compression)"
   ]
  },
  {
   "cell_type": "markdown",
   "metadata": {
    "pycharm": {
     "name": "#%% md\n"
    }
   },
   "source": [
    "### Q5: Explore a few different thresholds: approximately how many weights can you prune before accuracy starts to degrade?\n",
    "\n",
    "### Answer\n",
    "---\n",
    "The number of weights I could prune deepened on how incrementally I increased the cut off point. Smaller \n",
    "increments resulted in maintained accuracy while still reducing the number of weights. "
   ]
  },
  {
   "cell_type": "code",
   "execution_count": 10,
   "metadata": {
    "pycharm": {
     "is_executing": false,
     "name": "#%%\n"
    }
   },
   "outputs": [
    {
     "name": "stdout",
     "text": [
      "Iteration: 0. Loss: 0.26360490918159485. Accuracy: 94.\n",
      "Iteration: 1. Loss: 0.23479066789150238. Accuracy: 94.\n",
      "Iteration: 2. Loss: 0.19837436079978943. Accuracy: 94.\n",
      "Iteration: 3. Loss: 0.17569893598556519. Accuracy: 94.\n",
      "Iteration: 4. Loss: 0.2052856683731079. Accuracy: 94.\n",
      "Iteration: 5. Loss: 0.17430908977985382. Accuracy: 94.\n",
      "Iteration: 6. Loss: 0.1651909351348877. Accuracy: 94.\n",
      "Iteration: 7. Loss: 0.2531753182411194. Accuracy: 94.\n",
      "Iteration: 8. Loss: 0.2640306353569031. Accuracy: 94.\n",
      "Iteration: 9. Loss: 0.21004940569400787. Accuracy: 94.\n",
      "Compression: 50.836879\n"
     ],
     "output_type": "stream"
    }
   ],
   "source": [
    "for i in range(input_dim):\n",
    "    for j in range(hidden_dim):\n",
    "        if (model.W_0[i][j] < 0.2) and (model.W_0[i][j] > -0.2):\n",
    "            model.mask[i][j] = 0\n",
    "\n",
    "new_mask = model.mask\n",
    "model.set_mask(new_mask)\n",
    "\n",
    "iter = 0\n",
    "for epoch in range(n_epochs):\n",
    "    for i, (images, labels) in enumerate(train_loader):\n",
    "        images = images.view(-1, 28 * 28).to(device)\n",
    "        labels = labels.to(device)\n",
    "\n",
    "        optimizer.zero_grad()\n",
    "        outputs = model(images)\n",
    "        loss = criterion(outputs, labels)\n",
    "        loss.backward()\n",
    "        optimizer.step()\n",
    "\n",
    "    # calculate Accuracy\n",
    "    correct = 0\n",
    "    total = 0\n",
    "    for images, labels in test_loader:\n",
    "        images = images.view(-1, 28*28).to(device)\n",
    "        labels = labels.to(device)\n",
    "        outputs = model(images)\n",
    "        _, predicted = torch.max(outputs.data, 1)\n",
    "        total+= labels.size(0)\n",
    "                # for gpu, bring the predicted and labels back to cpu fro python operations to work\n",
    "        correct+= (predicted == labels).sum()\n",
    "    accuracy = 100 * correct/total\n",
    "    print(\"Iteration: {}. Loss: {}. Accuracy: {}.\".format(epoch, loss.item(), accuracy))\n",
    "torch.save(model.state_dict(),'mnist_pruned.h5')\n",
    "\n",
    "W_0 = model.W_0.detach().cpu().numpy()\n",
    "mask = model.mask.detach().cpu().numpy()\n",
    " \n",
    "inds = np.where(mask!=0)\n",
    "vals = W_0[inds]\n",
    "non_zero = len(vals)\n",
    "\n",
    "compression = input_dim * hidden_dim / non_zero\n",
    "\n",
    "print(\"Compression: %f\" % compression)\n"
   ]
  },
  {
   "cell_type": "code",
   "execution_count": 11,
   "metadata": {
    "pycharm": {
     "is_executing": false
    }
   },
   "outputs": [
    {
     "data": {
      "text/plain": "<Figure size 432x288 with 1 Axes>",
      "image/png": "[encoded data removed]"
     },
     "metadata": {
      "needs_background": "light"
     },
     "output_type": "display_data"
    }
   ],
   "source": [
    "W_0 = model.W_0.detach().cpu().numpy()\n",
    "plt.imshow(W_0[:,1].reshape((28,28)))\n",
    "plt.show()"
   ]
  },
  {
   "cell_type": "markdown",
   "metadata": {},
   "source": [
    "## Quantization\n",
    "\n",
    "Now that we have a pruned model that appears to be performing well, let's see if we can make it even smaller by quantization.  To do this, we'll need a slightly different neural network, one that corresponds to Figure 3 from the paper.  Instead of having a matrix of float values, we'll have a matrix of integer labels (here called \"labels\") that correspond to entries in a (hopefully) small codebook of centroids (here called \"centroids\").  The way that I've coded it, there's still a mask that enforces our desired sparsity pattern."
   ]
  },
  {
   "cell_type": "code",
   "execution_count": 12,
   "metadata": {
    "pycharm": {
     "is_executing": false
    }
   },
   "outputs": [],
   "source": [
    "class MultilayerPerceptronQuantized(torch.nn.Module):\n",
    "    def __init__(self, input_dim, output_dim, hidden_dim,mask,labels,centroids):\n",
    "        super(MultilayerPerceptronQuantized, self).__init__()\n",
    "        self.mask = torch.nn.Parameter(mask,requires_grad=False)\n",
    "        self.labels = torch.nn.Parameter(labels,requires_grad=False)\n",
    "        self.centroids = torch.nn.Parameter(centroids,requires_grad=True)\n",
    "\n",
    "        self.b_0 = torch.nn.Parameter(torch.zeros(hidden_dim))\n",
    "\n",
    "        self.W_1 = torch.nn.Parameter(1e-3*torch.randn(hidden_dim,output_dim))\n",
    "        self.b_1 = torch.nn.Parameter(torch.zeros(output_dim))\n",
    "\n",
    "    def forward(self, x):\n",
    "        W_0 = self.mask*self.centroids[self.labels]\n",
    "        hidden = torch.tanh(x@W_0 + self.b_0)\n",
    "        outputs = hidden@self.W_1 + self.b_1\n",
    "        return outputs"
   ]
  },
  {
   "cell_type": "markdown",
   "metadata": {},
   "source": [
    "Notice what is happening in the forward method: W_0 is being reconstructed by using a matrix (self.labels) to index into a vector (self.centroids).  The beauty of automatic differentiation allows backpropogation through this sort of weird indexing operation, and thus gives us gradients of the objective function with respect to the centroid values!\n",
    "\n",
    "### Q6: However, before we are able to use this AD magic, we need to specify the static label matrix (and an initial guess for centroids).  Use the k-means algorithm (or something else if you prefer) figure out the label matrix and centroid vectors.  PROTIP1: I used scikit-learns implementation of k-means.  PROTIP2: only cluster the non-zero entries"
   ]
  },
  {
   "cell_type": "code",
   "execution_count": 43,
   "metadata": {
    "pycharm": {
     "is_executing": false
    }
   },
   "outputs": [],
   "source": [
    "import numpy as np\n",
    "from sklearn import cluster as cl\n",
    "\n",
    "# convert weight and mask matrices into numpy arrays\n",
    "W_0 = model.W_0.detach().cpu().numpy()\n",
    "mask = model.mask.detach().cpu().numpy()\n",
    "\n",
    "# Figure out the indices of non-zero entries \n",
    "inds = np.where(mask!=0)\n",
    "# Figure out the values of non-zero entries\n",
    "vals = W_0[inds]\n",
    "\n",
    "### TODO: perform clustering on vals\n",
    "index = cl.KMeans(11).fit_predict(W_0)\n",
    "cent = cl.KMeans(11).fit(vals.reshape(-1,1)).cluster_centers_\n",
    "\n",
    "### TODO: turn the label matrix and centroids into a torch tensor\n",
    "labels = torch.tensor(index, dtype=torch.long,device=device)\n",
    "centroids = torch.tensor(cent, device=device)"
   ]
  },
  {
   "cell_type": "markdown",
   "metadata": {},
   "source": [
    "Now, we can instantiate our quantized model and import the appropriate pre-trained weights for the other network layers.  "
   ]
  },
  {
   "cell_type": "code",
   "execution_count": 44,
   "metadata": {
    "pycharm": {
     "is_executing": false
    }
   },
   "outputs": [],
   "source": [
    "# Instantiate quantized model\n",
    "model_q = MultilayerPerceptronQuantized(input_dim,output_dim,hidden_dim,new_mask,labels,centroids)\n",
    "model_q = model_q.to(device)\n",
    "\n",
    "# Copy pre-trained weights from unquantized model for non-quantized layers\n",
    "model_q.b_0.data = model.b_0.data\n",
    "model_q.W_1.data = model.W_1.data\n",
    "model_q.b_1.data = model.b_1.data"
   ]
  },
  {
   "cell_type": "markdown",
   "metadata": {},
   "source": [
    "Finally, we can fine tune the quantized model.  We'll adjust not only the centroids, but also the weights in the other layers."
   ]
  },
  {
   "cell_type": "code",
   "execution_count": 45,
   "metadata": {
    "pycharm": {
     "is_executing": false
    }
   },
   "outputs": [
    {
     "name": "stdout",
     "text": [
      "Iteration: 0. Loss: 1.3482598066329956. Accuracy: 52.\n",
      "Iteration: 1. Loss: 0.7554670572280884. Accuracy: 79.\n",
      "Iteration: 2. Loss: 0.4979821741580963. Accuracy: 85.\n",
      "Iteration: 3. Loss: 0.47863173484802246. Accuracy: 87.\n",
      "Iteration: 4. Loss: 0.41253042221069336. Accuracy: 88.\n",
      "Iteration: 5. Loss: 0.3373030722141266. Accuracy: 88.\n",
      "Iteration: 6. Loss: 0.3656291663646698. Accuracy: 89.\n",
      "Iteration: 7. Loss: 0.4201699495315552. Accuracy: 89.\n",
      "Iteration: 8. Loss: 0.36756837368011475. Accuracy: 90.\n",
      "Iteration: 9. Loss: 0.37764695286750793. Accuracy: 90.\n"
     ],
     "output_type": "stream"
    }
   ],
   "source": [
    "optimizer = torch.optim.Adam(model_q.parameters(), lr=lr_rate, weight_decay=1e-3)\n",
    "for epoch in range(n_epochs):\n",
    "    for i, (images, labels) in enumerate(train_loader):\n",
    "        images = images.view(-1, 28 * 28).to(device)\n",
    "        labels = labels.to(device)\n",
    "\n",
    "        optimizer.zero_grad()\n",
    "        outputs = model_q(images)\n",
    "        loss = criterion(outputs, labels)\n",
    "        loss.backward()\n",
    "        optimizer.step()\n",
    "\n",
    "    # calculate Accuracy\n",
    "    correct = 0\n",
    "    total = 0\n",
    "    for images, labels in test_loader:\n",
    "        images = images.view(-1, 28*28).to(device)\n",
    "        labels = labels.to(device)\n",
    "        outputs = model_q(images)\n",
    "        _, predicted = torch.max(outputs.data, 1)\n",
    "        total+= labels.size(0)\n",
    "                # for gpu, bring the predicted and labels back to cpu fro python operations to work\n",
    "        correct+= (predicted == labels).sum()\n",
    "    accuracy = 100 * correct/total\n",
    "    print(\"Iteration: {}. Loss: {}. Accuracy: {}.\".format(epoch, loss.item(), accuracy))\n",
    "torch.save(model.state_dict(),'mnist_quantized.h5')"
   ]
  },
  {
   "cell_type": "markdown",
   "metadata": {},
   "source": [
    "After retraining, we can, just for fun, reconstruct the pruned and quantized weights and plot them as images:"
   ]
  },
  {
   "cell_type": "code",
   "execution_count": 24,
   "metadata": {
    "pycharm": {
     "is_executing": false
    }
   },
   "outputs": [
    {
     "data": {
      "text/plain": "<Figure size 432x288 with 1 Axes>",
      "image/png": "[encoded data removed]"
     },
     "metadata": {
      "needs_background": "light"
     },
     "output_type": "display_data"
    }
   ],
   "source": [
    "W_0 = (model_q.mask*model_q.centroids[model_q.labels]).detach().cpu().numpy()\n",
    "plt.imshow(W_0[:,1].reshape((28,28)))\n",
    "plt.show()"
   ]
  },
  {
   "cell_type": "markdown",
   "metadata": {},
   "source": [
    "Certainly a much more parsimonious representation.  The obvious question now becomes:\n",
    "\n",
    "### Q7: How low can you go?  How small can the centroid codebook be before we see a substantial degradation in test set accuracy?\n",
    "\n",
    "### Answer\n",
    "---\n",
    "I started out with 4 centroids and that brought the accuracy down to 83. I turn it all the way up to 11 to get it back to \n",
    "90% accuracy. \n",
    "\n",
    "### Bonus question: Try establishing the sparsity pattern using a model that's only been trained for a single epoch, then fine tune the pruned model and quantize as normal.  How does this compare to pruning a model that has been fully trained?  \n",
    "\n",
    "### Answer\n",
    "---\n",
    "You can see the results at the bottom but it actually didn't do that bad. Ending accuracy of 86%. "
   ]
  },
  {
   "cell_type": "code",
   "execution_count": 47,
   "metadata": {
    "pycharm": {
     "is_executing": false
    }
   },
   "outputs": [
    {
     "name": "stdout",
     "text": [
      "Pre Prune:\n",
      "Iteration: 0. Loss: 0.4219701290130615. Accuracy: 90.\n",
      "Post Prune:\n",
      "Iteration: 0. Loss: 0.4836045801639557. Accuracy: 87.\n",
      "Iteration: 1. Loss: 0.5091169476509094. Accuracy: 88.\n",
      "Iteration: 2. Loss: 0.3522688150405884. Accuracy: 89.\n",
      "Iteration: 3. Loss: 0.39508992433547974. Accuracy: 90.\n",
      "Iteration: 4. Loss: 0.31890979409217834. Accuracy: 90.\n",
      "Iteration: 5. Loss: 0.24458985030651093. Accuracy: 91.\n",
      "Iteration: 6. Loss: 0.23286211490631104. Accuracy: 91.\n",
      "Iteration: 7. Loss: 0.39547303318977356. Accuracy: 92.\n",
      "Iteration: 8. Loss: 0.27444538474082947. Accuracy: 92.\n",
      "Iteration: 9. Loss: 0.385903537273407. Accuracy: 92.\n",
      "Quantized:\n",
      "Iteration: 0. Loss: 1.2952052354812622. Accuracy: 60.\n",
      "Iteration: 1. Loss: 0.858154833316803. Accuracy: 75.\n",
      "Iteration: 2. Loss: 0.7148496508598328. Accuracy: 79.\n",
      "Iteration: 3. Loss: 0.6457381844520569. Accuracy: 81.\n",
      "Iteration: 4. Loss: 0.7702615857124329. Accuracy: 82.\n",
      "Iteration: 5. Loss: 0.5176591873168945. Accuracy: 83.\n",
      "Iteration: 6. Loss: 0.5642759203910828. Accuracy: 84.\n",
      "Iteration: 7. Loss: 0.5102397799491882. Accuracy: 85.\n",
      "Iteration: 8. Loss: 0.5224900245666504. Accuracy: 85.\n",
      "Iteration: 9. Loss: 0.5836076140403748. Accuracy: 86.\n"
     ],
     "output_type": "stream"
    }
   ],
   "source": [
    "import torch\n",
    "import torchvision.transforms as transforms\n",
    "import torchvision.datasets as datasets\n",
    "import numpy as np\n",
    "from sklearn import cluster as cl\n",
    "\n",
    "device = torch.device('cuda' if torch.cuda.is_available() else \"cpu\")\n",
    "\n",
    "train_dataset = datasets.MNIST(root='./data', train=True, transform=transforms.ToTensor(), download=True)\n",
    "test_dataset = datasets.MNIST(root='./data', train=False, transform=transforms.ToTensor())\n",
    "\n",
    "batch_size = 300\n",
    "train_loader = torch.utils.data.DataLoader(dataset=train_dataset, batch_size=batch_size, shuffle=True)\n",
    "test_loader = torch.utils.data.DataLoader(dataset=test_dataset, batch_size=batch_size, shuffle=False)\n",
    "\n",
    "\n",
    "class MultilayerPerceptron(torch.nn.Module):\n",
    "    def __init__(self, input_dim, hidden_dim, output_dim,mask=None):\n",
    "        super(MultilayerPerceptron, self).__init__()\n",
    "        if not mask:\n",
    "            self.mask = torch.nn.Parameter(torch.ones(input_dim,hidden_dim),requires_grad=False)\n",
    "        else:\n",
    "            self.mask = torch.nn.Parameter(mask)\n",
    "\n",
    "        self.W_0 = torch.nn.Parameter(1e-3*torch.randn(input_dim,hidden_dim)*self.mask,requires_grad=True)\n",
    "        self.b_0 = torch.nn.Parameter(torch.zeros(hidden_dim),requires_grad=True)\n",
    "\n",
    "        self.W_1 = torch.nn.Parameter(1e-3*torch.randn(hidden_dim,output_dim),requires_grad=True)\n",
    "        self.b_1 = torch.nn.Parameter(torch.zeros(output_dim),requires_grad=True)\n",
    "        \n",
    "    def set_mask(self,mask):\n",
    "        \n",
    "        self.mask.data = mask.data\n",
    "        self.W_0.data = self.mask.data*self.W_0.data\n",
    "\n",
    "    def forward(self, x):\n",
    "        hidden = torch.tanh(x@(self.W_0*self.mask) + self.b_0)\n",
    "        outputs = hidden@self.W_1 + self.b_1\n",
    "        return outputs\n",
    "\n",
    "\n",
    "n_epochs_pre_prune = 1\n",
    "n_epochs_post_prune = 10\n",
    "n_epochs_quant = 10\n",
    "\n",
    "input_dim = 784\n",
    "hidden_dim = 64\n",
    "output_dim = 10\n",
    "\n",
    "model = MultilayerPerceptron(input_dim,hidden_dim,output_dim)\n",
    "model = model.to(device)\n",
    "\n",
    "criterion = torch.nn.CrossEntropyLoss() # computes softmax and then the cross entropy\n",
    "lr_rate = 0.001\n",
    "optimizer = torch.optim.Adam(model.parameters(), lr=lr_rate, weight_decay=1e-3)\n",
    "\n",
    "print(\"Pre Prune:\")\n",
    "for epoch in range(n_epochs_pre_prune):\n",
    "    for i, (images, labels) in enumerate(train_loader):\n",
    "        images = images.view(-1, 28 * 28).to(device)\n",
    "        labels = labels.to(device)\n",
    "\n",
    "        optimizer.zero_grad()\n",
    "        outputs = model(images)\n",
    "        loss = criterion(outputs, labels)\n",
    "        loss.backward()\n",
    "        optimizer.step()\n",
    "\n",
    "    # calculate Accuracy\n",
    "    correct = 0\n",
    "    total = 0\n",
    "    for images, labels in test_loader:\n",
    "        images = images.view(-1, 28*28).to(device)\n",
    "        labels = labels.to(device)\n",
    "        outputs = model(images)\n",
    "        _, predicted = torch.max(outputs.data, 1)\n",
    "        total+= labels.size(0)\n",
    "                # for gpu, bring the predicted and labels back to cpu fro python operations to work\n",
    "        correct+= (predicted == labels).sum()\n",
    "    accuracy = 100 * correct/total\n",
    "    print(\"Iteration: {}. Loss: {}. Accuracy: {}.\".format(epoch, loss.item(), accuracy))\n",
    "torch.save(model.state_dict(),'mnist_pretrained_single_prune.h5')\n",
    "\n",
    "\n",
    "for i in range(input_dim):\n",
    "    for j in range(hidden_dim):\n",
    "        if (model.W_0[i][j] < 0.1) and (model.W_0[i][j] > -0.1):\n",
    "            model.mask[i][j] = 0\n",
    "            zeros += 1\n",
    "new_mask = model.mask\n",
    "\n",
    "print(\"Post Prune:\")\n",
    "for epoch in range(n_epochs_post_prune):\n",
    "    for i, (images, labels) in enumerate(train_loader):\n",
    "        images = images.view(-1, 28 * 28).to(device)\n",
    "        labels = labels.to(device)\n",
    "\n",
    "        optimizer.zero_grad()\n",
    "        outputs = model(images)\n",
    "        loss = criterion(outputs, labels)\n",
    "        loss.backward()\n",
    "        optimizer.step()\n",
    "\n",
    "    # calculate Accuracy\n",
    "    correct = 0\n",
    "    total = 0\n",
    "    for images, labels in test_loader:\n",
    "        images = images.view(-1, 28*28).to(device)\n",
    "        labels = labels.to(device)\n",
    "        outputs = model(images)\n",
    "        _, predicted = torch.max(outputs.data, 1)\n",
    "        total+= labels.size(0)\n",
    "                # for gpu, bring the predicted and labels back to cpu fro python operations to work\n",
    "        correct+= (predicted == labels).sum()\n",
    "    accuracy = 100 * correct/total\n",
    "    print(\"Iteration: {}. Loss: {}. Accuracy: {}.\".format(epoch, loss.item(), accuracy))\n",
    "torch.save(model.state_dict(),'mnist_posttrained_single_pruned.h5')\n",
    "\n",
    "\n",
    "W_0 = model.W_0.detach().cpu().numpy()\n",
    "mask = model.mask.detach().cpu().numpy()\n",
    " \n",
    "inds = np.where(mask!=0)\n",
    "vals = W_0[inds]\n",
    "\n",
    "index = cl.KMeans(11).fit_predict(W_0)\n",
    "cent = cl.KMeans(11).fit(vals.reshape(-1,1)).cluster_centers_\n",
    "\n",
    "labels = torch.tensor(index, dtype=torch.long,device=device)\n",
    "centroids = torch.tensor(cent, device=device)\n",
    "\n",
    "\n",
    "# Instantiate quantized model\n",
    "model_q = MultilayerPerceptronQuantized(input_dim,output_dim,hidden_dim,new_mask,labels,centroids)\n",
    "model_q = model_q.to(device)\n",
    "\n",
    "# Copy pre-trained weights from unquantized model for non-quantized layers\n",
    "model_q.b_0.data = model.b_0.data\n",
    "model_q.W_1.data = model.W_1.data\n",
    "model_q.b_1.data = model.b_1.data\n",
    "\n",
    "\n",
    "optimizer = torch.optim.Adam(model_q.parameters(), lr=lr_rate, weight_decay=1e-3)\n",
    "\n",
    "print(\"Quantized:\")\n",
    "for epoch in range(n_epochs_quant):\n",
    "    for i, (images, labels) in enumerate(train_loader):\n",
    "        images = images.view(-1, 28 * 28).to(device)\n",
    "        labels = labels.to(device)\n",
    "\n",
    "        optimizer.zero_grad()\n",
    "        outputs = model_q(images)\n",
    "        loss = criterion(outputs, labels)\n",
    "        loss.backward()\n",
    "        optimizer.step()\n",
    "\n",
    "    # calculate Accuracy\n",
    "    correct = 0\n",
    "    total = 0\n",
    "    for images, labels in test_loader:\n",
    "        images = images.view(-1, 28*28).to(device)\n",
    "        labels = labels.to(device)\n",
    "        outputs = model_q(images)\n",
    "        _, predicted = torch.max(outputs.data, 1)\n",
    "        total+= labels.size(0)\n",
    "                # for gpu, bring the predicted and labels back to cpu fro python operations to work\n",
    "        correct+= (predicted == labels).sum()\n",
    "    accuracy = 100 * correct/total\n",
    "    print(\"Iteration: {}. Loss: {}. Accuracy: {}.\".format(epoch, loss.item(), accuracy))\n",
    "torch.save(model.state_dict(),'mnist_quantized_single_prune.h5')"
   ]
  },
  {
   "cell_type": "code",
   "execution_count": null,
   "outputs": [],
   "source": [
    "\n"
   ],
   "metadata": {
    "collapsed": false,
    "pycharm": {
     "name": "#%%\n"
    }
   }
  }
 ],
 "metadata": {
  "kernelspec": {
   "display_name": "Python 3",
   "language": "python",
   "name": "python3"
  },
  "language_info": {
   "codemirror_mode": {
    "name": "ipython",
    "version": 3
   },
   "file_extension": ".py",
   "mimetype": "text/x-python",
   "name": "python",
   "nbconvert_exporter": "python",
   "pygments_lexer": "ipython3",
   "version": "3.7.5"
  },
  "pycharm": {
   "stem_cell": {
    "cell_type": "raw",
    "source": [],
    "metadata": {
     "collapsed": false
    }
   }
  }
 },
 "nbformat": 4,
 "nbformat_minor": 2
}